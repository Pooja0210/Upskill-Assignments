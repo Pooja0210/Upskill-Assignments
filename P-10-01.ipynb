{
 "cells": [
  {
   "cell_type": "markdown",
   "metadata": {},
   "source": [
    "# Problem 2"
   ]
  },
  {
   "cell_type": "markdown",
   "metadata": {},
   "source": [
    "# Write a python function which accepts a list of numbers and returns true if the list contains a 2 next to a 2. Otherwise it should return false.\n",
    "\n"
   ]
  },
  {
   "cell_type": "code",
   "execution_count": 14,
   "metadata": {},
   "outputs": [
    {
     "name": "stdout",
     "output_type": "stream",
     "text": [
      "1 2 1 2 3 4 5 2 2\n",
      "True\n"
     ]
    }
   ],
   "source": [
    "def List(A):\n",
    "    k=0\n",
    "    for i in range(len(A)-1):\n",
    "        if A[i]==2 and A[i+1]==2:\n",
    "            k=1\n",
    "            break\n",
    "    if k:\n",
    "        return True\n",
    "    else:\n",
    "        return False\n",
    "\n",
    "A = list(map(int,input().split()))\n",
    "result = List(A)\n",
    "print(result)"
   ]
  },
  {
   "cell_type": "markdown",
   "metadata": {},
   "source": [
    "# Problem 1"
   ]
  },
  {
   "cell_type": "markdown",
   "metadata": {},
   "source": [
    "# Write a python function to create and return a new dictionary from the given dictionary(item:price).\n",
    "\n"
   ]
  },
  {
   "cell_type": "code",
   "execution_count": 15,
   "metadata": {},
   "outputs": [
    {
     "name": "stdout",
     "output_type": "stream",
     "text": [
      "ACME AAPL IBM HPQ FB\n",
      "45.23 612.78 205.55 37.20 10.75\n",
      "{'AAPL': 612.78, 'IBM': 205.55}\n"
     ]
    }
   ],
   "source": [
    "def newDict(D):\n",
    "    d={}\n",
    "    for i in D.keys():\n",
    "        if D[i]>200:\n",
    "            d[i] = D[i]\n",
    "    return d\n",
    "\n",
    "A = list(map(str,input().split()))\n",
    "B = list(map(float,input().split()))\n",
    "D = dict(zip(A,B))\n",
    "result = newDict(D)\n",
    "print(result)"
   ]
  },
  {
   "cell_type": "markdown",
   "metadata": {},
   "source": [
    "# Problem 3"
   ]
  },
  {
   "cell_type": "markdown",
   "metadata": {},
   "source": [
    "# Given a list of integers and a number. Write a python function to find and return the sum of the elements of the list. "
   ]
  },
  {
   "cell_type": "code",
   "execution_count": 16,
   "metadata": {},
   "outputs": [
    {
     "name": "stdout",
     "output_type": "stream",
     "text": [
      "1 2 3 4 \n",
      "2\n",
      "4\n"
     ]
    }
   ],
   "source": [
    "L=list(map(int,input().split()))\n",
    "num=int(input())\n",
    "Sum = 0\n",
    "for i in range(len(L)):\n",
    "    S = L[max(0, i-1):i+2]\n",
    "    if not any(n == num for n in S):\n",
    "        Sum += L[i]\n",
    "print(Sum)"
   ]
  },
  {
   "cell_type": "code",
   "execution_count": null,
   "metadata": {},
   "outputs": [],
   "source": []
  }
 ],
 "metadata": {
  "kernelspec": {
   "display_name": "Python 3",
   "language": "python",
   "name": "python3"
  },
  "language_info": {
   "codemirror_mode": {
    "name": "ipython",
    "version": 3
   },
   "file_extension": ".py",
   "mimetype": "text/x-python",
   "name": "python",
   "nbconvert_exporter": "python",
   "pygments_lexer": "ipython3",
   "version": "3.7.1"
  }
 },
 "nbformat": 4,
 "nbformat_minor": 2
}
